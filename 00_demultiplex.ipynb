{
 "cells": [
  {
   "cell_type": "markdown",
   "metadata": {},
   "source": [
    "# demultiplex\n",
    "\n",
    "> A python program for trimming and demultiplexing nanopore reads"
   ]
  },
  {
   "cell_type": "code",
   "execution_count": 1,
   "metadata": {},
   "outputs": [],
   "source": [
    "#| default_exp demultiplex"
   ]
  },
  {
   "cell_type": "code",
   "execution_count": 2,
   "metadata": {},
   "outputs": [],
   "source": [
    "#| hide\n",
    "from nbdev.showdoc import *\n",
    "from Bio import SeqIO\n",
    "from Bio import Align\n",
    "from Bio.Seq import Seq\n",
    "from Bio.SeqRecord import SeqRecord\n",
    "import numpy as np"
   ]
  },
  {
   "cell_type": "code",
   "execution_count": 3,
   "metadata": {},
   "outputs": [],
   "source": [
    "#| export\n",
    "from Bio import SeqIO\n",
    "from Bio import Align\n",
    "from Bio.Seq import Seq\n",
    "from Bio.SeqRecord import SeqRecord\n",
    "import numpy as np"
   ]
  },
  {
   "cell_type": "code",
   "execution_count": 4,
   "metadata": {},
   "outputs": [],
   "source": [
    "#| export\n",
    "def findAlingments(seq_record, primer_dict, inward_end, max_alignments):\n",
    "    \"Find alignments for each primer in a sequence record\"\n",
    "  \n",
    "    primer_keys = list(primer_dict.keys())\n",
    "    \n",
    "    aligner = Align.PairwiseAligner()\n",
    "    aligner.match_score = 1.0\n",
    "    aligner.mismatch_score = 0\n",
    "    aligner.gap_score = -2\n",
    "    aligner.mode = \"local\"\n",
    "\n",
    "    n_sequences = len(primer_keys)\n",
    "\n",
    "    array_cols = max_alignments + 3\n",
    "    al_array = np.zeros( (n_sequences, array_cols) )\n",
    "\n",
    "    for i in list(range(0, n_sequences, 1)):\n",
    "        print(primer_keys[i])\n",
    "        al = []\n",
    "        seq = primer_dict[primer_keys[i]].seq        \n",
    "        alignments = aligner.align(seq_record[0:inward_end], seq)\n",
    "        len_alignments = len(alignments)\n",
    "        if(len_alignments <= max_alignments):\n",
    "            score = alignments.score\n",
    "            al = [j.aligned for j in alignments]\n",
    "            len_al = len(al)\n",
    "            for k in range(0, len_al):\n",
    "                al[k] = (al[k][0][0][1])\n",
    "            al_array[i, 0:len(al)] = al # ends of each alignment\n",
    "            al_array[i, -3] = max(al) # maximum posistion of each alignment\n",
    "            al_array[i, -2] = len_alignments # number of alingments\n",
    "            al_array[i, -1] = np.around(alignments.score/len(seq)*100, 0) # normalized local alingnment score\n",
    "            \n",
    "    return(al_array)"
   ]
  },
  {
   "cell_type": "code",
   "execution_count": 5,
   "metadata": {},
   "outputs": [
    {
     "name": "stdout",
     "output_type": "stream",
     "text": [
      "barcode_1\n",
      "barcode_2\n",
      "barcode_3\n",
      "[[ 21.   0.   0.  21.   1. 100.]\n",
      " [ 37.   0.   0.  37.   1.  60.]\n",
      " [ 38.   0.   0.  38.   1. 100.]]\n"
     ]
    },
    {
     "data": {
      "text/plain": [
       "array([[ True,  True,  True,  True,  True,  True],\n",
       "       [ True,  True,  True,  True,  True,  True],\n",
       "       [ True,  True,  True,  True,  True,  True]])"
      ]
     },
     "execution_count": 5,
     "metadata": {},
     "output_type": "execute_result"
    }
   ],
   "source": [
    "#| hide\n",
    "primer_dict = list(\n",
    "    [SeqRecord(\n",
    "        Seq(\"CGCTCAGTTC\"),\n",
    "        id=\"barcode_1\",\n",
    "        name=\"barcode_1\"),\n",
    "    SeqRecord(\n",
    "        Seq(\"TATCTGACCT\"),\n",
    "        id=\"barcode_2\",\n",
    "        name=\"barcode_2\"),\n",
    "    SeqRecord(\n",
    "        Seq(\"ATATGAGACG\"),\n",
    "        id=\"barcode_3\",\n",
    "        name=\"barcode_3\")]\n",
    ")\n",
    "primer_dict = SeqIO.to_dict(primer_dict)\n",
    "\n",
    "seq_record = Seq(\"TGATGTAAGTACGCTCAGTTCGATATCGATATGAGACGGATTAGGAGGGGGCGCGATGTTGTGTGGGAAAA\")\n",
    "ends = findAlingments(seq_record, primer_dict, 200, 3)\n",
    "\n",
    "print(ends)\n",
    "\n",
    "ends == [[ 21.,   0.,   0.,  21.,   1., 100.],\n",
    " [ 37.,   0.,   0.,  37.,   1.,  60.],\n",
    " [ 38.,   0.,   0.,  38.,   1., 100.]]\n"
   ]
  },
  {
   "cell_type": "code",
   "execution_count": 6,
   "metadata": {},
   "outputs": [],
   "source": [
    "#| export\n",
    "def align_barcodes(primer_dict, record_dict, inward_end, max_alignments):\n",
    "    \"Aligne all barcodes in a list of seq records\"\n",
    "\n",
    "    record_keys = list(record_dict.keys())\n",
    "    n_sequences = len(record_keys)\n",
    "    \n",
    "    alingments = list( range(0, n_sequences) )\n",
    "    for i in list(range(0, n_sequences, 1)):\n",
    "        print(record_keys[i])\n",
    "        seq_i = record_dict[record_keys[i]].seq\n",
    "    \n",
    "        alingments[i] = findAlingments(seq_i, primer_dict, inward_end, max_alignments)\n",
    "    return(alingments)"
   ]
  },
  {
   "cell_type": "code",
   "execution_count": 7,
   "metadata": {},
   "outputs": [
    {
     "name": "stdout",
     "output_type": "stream",
     "text": [
      "seq_1\n",
      "barcode_1\n",
      "barcode_2\n",
      "barcode_3\n",
      "seq_2\n",
      "barcode_1\n",
      "barcode_2\n",
      "barcode_3\n",
      "seq_3\n",
      "barcode_1\n",
      "barcode_2\n",
      "barcode_3\n"
     ]
    },
    {
     "data": {
      "text/plain": [
       "[array([[ 24.,   0.,   0.,   0.,   0.,  24.,   1., 100.],\n",
       "        [ 43.,   0.,   0.,   0.,   0.,  43.,   1.,  60.],\n",
       "        [ 75.,   0.,   0.,   0.,   0.,  75.,   1.,  50.]]),\n",
       " array([[ 16.,  59.,  72.,   0.,   0.,  72.,   3.,  60.],\n",
       "        [ 31.,   0.,   0.,   0.,   0.,  31.,   1., 100.],\n",
       "        [  8.,  29.,   0.,   0.,   0.,  29.,   2.,  60.]]),\n",
       " array([[  0.,   0.,   0.,   0.,   0.,   0.,   0.,   0.],\n",
       "        [ 28.,  97.,   0.,   0.,   0.,  97.,   2.,  60.],\n",
       "        [ 29.,   0.,   0.,   0.,   0.,  29.,   1., 100.]])]"
      ]
     },
     "execution_count": 7,
     "metadata": {},
     "output_type": "execute_result"
    }
   ],
   "source": [
    "#| hide\n",
    "primer_dict = list(\n",
    "    [SeqRecord(\n",
    "        Seq(\"CGCTCAGTTC\"),\n",
    "        id=\"barcode_1\",\n",
    "        name=\"barcode_1\"),\n",
    "    SeqRecord(\n",
    "        Seq(\"TATCTGACCT\"),\n",
    "        id=\"barcode_2\",\n",
    "        name=\"barcode_2\"),\n",
    "    SeqRecord(\n",
    "        Seq(\"ATATGAGACG\"),\n",
    "        id=\"barcode_3\",\n",
    "        name=\"barcode_3\")]\n",
    ")\n",
    "primer_dict = SeqIO.to_dict(primer_dict)\n",
    "\n",
    "record_dict = list(\n",
    "    [SeqRecord(\n",
    "        Seq(\"AGTGCCCCGCGCCACGCTCAGTTCCTCCCGCGCCGCCTGCCCTGCAGCCTGCCCGCGGCGCCTTTATACCCAGCGGGCTCGCGGGCTCGCGCGCTCACTAATGTTT\"),\n",
    "        id=\"seq_1\",\n",
    "        name=\"seq_1\"),\n",
    "    SeqRecord(\n",
    "        Seq(\"ATGAACCGGGGAGTCCCTTTTTATCTGACCTTTCTGGTGCTGCAACTGGCGCTCCTCCCAGCAGCCACTCAGGGAAATAAAGTGGTGCTGGGCAAAAAAGGGGATAC\"),\n",
    "        id=\"seq_2\",\n",
    "        name=\"seq_2\"),\n",
    "    SeqRecord(\n",
    "        Seq(\"GCCCAGGGACAGAGGAACAATATGAGACGCAGGTTCCTTAACAGGAACATGAAGCACCCCCAGGAGGGACAGCCGCTGGAGCTGGAGTGCCTGCCTTTCAACATCG\"),\n",
    "        id=\"seq_3\",\n",
    "        name=\"seq_3\")]\n",
    ")\n",
    "record_dict = SeqIO.to_dict(record_dict)\n",
    "\n",
    "\n",
    "alginment_arrays = align_barcodes(primer_dict, record_dict, 200, 5)\n",
    "alginment_arrays"
   ]
  },
  {
   "cell_type": "code",
   "execution_count": 8,
   "metadata": {},
   "outputs": [
    {
     "name": "stdout",
     "output_type": "stream",
     "text": [
      "1\n",
      "[[[ 24.   0.   0.   0.   0.  24.   1. 100.]]]\n",
      "1\n",
      "[[[ 31.   0.   0.   0.   0.  31.   1. 100.]]]\n",
      "1\n",
      "[[[ 29.   0.   0.   0.   0.  29.   1. 100.]]]\n"
     ]
    }
   ],
   "source": [
    "#| hide\n",
    "x = np.zeros( (1, len(alginment_arrays)) )\n",
    "for i in alginment_arrays:\n",
    "    print(np.sum((i[:,-1] >= 85) & (i[:,-2] == 1)))\n",
    "    print(i[np.where(i[:,-1] >= 85),:])"
   ]
  },
  {
   "cell_type": "code",
   "execution_count": 9,
   "metadata": {},
   "outputs": [],
   "source": [
    "#| export\n",
    "def decide_barcode_id(alginment_arrays):\n",
    "    \"Decide which barcode is best hit; remove if tie\"\n",
    "    \n",
    "    id_array = np.zeros((np.shape(alginment_arrays)[0],3), dtype=np.int64)\n",
    "    for i in range(0, np.shape(alginment_arrays)[0]):\n",
    "        array_i = alginment_arrays[i]\n",
    "        id_i = np.where(array_i[:,-1] == np.max(array_i[:,-1]))[0]\n",
    "        if len(id_i) == 1:\n",
    "            id_array[i,0] = id_i\n",
    "            id_array[i,1] = array_i[id_i,-3]\n",
    "            id_array[i,2] = array_i[id_i,-1]\n",
    "        elif len(id_i) >= 1:\n",
    "            id_array[i,0] =  -1\n",
    "            id_array[i,1] = 0\n",
    "            id_array[i,2] = 0\n",
    "        \n",
    "        \n",
    "    return(id_array)"
   ]
  },
  {
   "cell_type": "code",
   "execution_count": 10,
   "metadata": {},
   "outputs": [
    {
     "data": {
      "text/plain": [
       "array([[  0,  24, 100],\n",
       "       [  1,  31, 100],\n",
       "       [  2,  29, 100]])"
      ]
     },
     "execution_count": 10,
     "metadata": {},
     "output_type": "execute_result"
    }
   ],
   "source": [
    "#| hide\n",
    "seq_barcode_ids = decide_barcode_id(alginment_arrays)\n",
    "seq_barcode_ids"
   ]
  },
  {
   "cell_type": "code",
   "execution_count": 11,
   "metadata": {},
   "outputs": [],
   "source": [
    "#| export\n",
    "def trim_record(seq_record, primer_end_position):\n",
    "    \"Trim barcodes\"\n",
    "\n",
    "    x = seq_record\n",
    "    x =  x[primer_end_position:]\n",
    "    return(x)"
   ]
  },
  {
   "cell_type": "code",
   "execution_count": 12,
   "metadata": {},
   "outputs": [],
   "source": [
    "#| hide\n",
    "record_keys = list(record_dict.keys())\n",
    "record_x = record_dict[record_keys[0]]\n",
    "len_old = len(record_x.seq)\n",
    "\n",
    "record_x_new = trim_record(record_x, 3)\n",
    "\n",
    "assert len(record_x_new.seq) + 3 == len_old\n"
   ]
  },
  {
   "cell_type": "code",
   "execution_count": 13,
   "metadata": {},
   "outputs": [],
   "source": [
    "#| export\n",
    "def sort_records_to_file(record_dict, primer_dict, output_folder, alginment_arrays, input_file_type):\n",
    "    \"Sort records into new files based on barcodes and name files after barcodes\"\n",
    "    \n",
    "    seq_barcode_res = decide_barcode_id(alginment_arrays)\n",
    "    seq_barcode_ids = seq_barcode_res[:,0]\n",
    "    seq_barcode_end_pos = seq_barcode_res[:,1]\n",
    "    seq_barcode_match = seq_barcode_res[:,2]\n",
    "    primer_keys = list(primer_dict.keys())\n",
    "    record_keys = list(record_dict.keys())\n",
    "    record_numbers = range(0, len(record_keys))\n",
    "\n",
    "    for k in range(0, len(primer_dict)):\n",
    "        seq_iterator_k = (trim_record(record_dict[record_keys[i]], seq_barcode_end_pos[i]) for i in record_numbers if seq_barcode_ids[i] == k if seq_barcode_match[i] >= 85)\n",
    "        SeqIO.write(seq_iterator_k, output_folder + \"/\" + primer_dict[primer_keys[k]].name + \"_seqs.\" + input_file_type, input_file_type)"
   ]
  },
  {
   "cell_type": "code",
   "execution_count": 14,
   "metadata": {},
   "outputs": [],
   "source": [
    "#| hide\n",
    "sort_records_to_file(record_dict, primer_dict, \"test_data/test_out\", alginment_arrays, \"fasta\")"
   ]
  },
  {
   "cell_type": "code",
   "execution_count": 15,
   "metadata": {},
   "outputs": [],
   "source": [
    "#| export\n",
    "def demultiplex(input_file, input_file_type, primer_file, primer_file_type, output_folder, max_distance, max_alignments):\n",
    "    \"Trim and demultiplex sequencing reads\"\n",
    "    \n",
    "    print(\"Create barcode dictionary\")\n",
    "    primer_dict = SeqIO.index(primer_file, primer_file_type)\n",
    "    \n",
    "    print(\"Create sequence dictionary\")\n",
    "    record_dict = SeqIO.index(input_file, input_file_type)\n",
    "    \n",
    "    print(\"Align barcodes\")\n",
    "    alginment_arrays = align_barcodes(primer_dict, record_dict, max_distance, max_alignments)\n",
    "    \n",
    "    print(\"Sort records to file\")\n",
    "    sort_records_to_file(record_dict, primer_dict, output_folder, alginment_arrays, input_file_type)"
   ]
  },
  {
   "cell_type": "code",
   "execution_count": 16,
   "metadata": {},
   "outputs": [],
   "source": [
    "#| hide\n",
    "# demultiplex(\"test_data/test.fasta\", \"fasta\", \"test_data/test_primer.fasta\", \"fasta\", \"test_data/test_out\", 200, 5)"
   ]
  },
  {
   "cell_type": "code",
   "execution_count": 17,
   "metadata": {},
   "outputs": [],
   "source": [
    "#| hide\n",
    "import nbdev; nbdev.nbdev_export()"
   ]
  },
  {
   "cell_type": "code",
   "execution_count": null,
   "metadata": {},
   "outputs": [],
   "source": []
  }
 ],
 "metadata": {
  "kernelspec": {
   "display_name": "Python 3 (ipykernel)",
   "language": "python",
   "name": "python3"
  },
  "language_info": {
   "codemirror_mode": {
    "name": "ipython",
    "version": 3
   },
   "file_extension": ".py",
   "mimetype": "text/x-python",
   "name": "python",
   "nbconvert_exporter": "python",
   "pygments_lexer": "ipython3",
   "version": "3.10.6"
  }
 },
 "nbformat": 4,
 "nbformat_minor": 4
}
